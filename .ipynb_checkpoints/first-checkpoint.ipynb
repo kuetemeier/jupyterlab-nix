{
 "cells": [
  {
   "cell_type": "code",
   "execution_count": null,
   "id": "2ab4daa2-ae49-4e2d-b9dd-005e79fb87d6",
   "metadata": {},
   "outputs": [],
   "source": []
  }
 ],
 "metadata": {
  "kernelspec": {
   "display_name": "Python 3 (ipykernel)",
   "language": "python",
   "name": "python3"
  },
  "language_info": {
   "codemirror_mode": {
    "name": "ipython",
    "version": 3
   },
   "file_extension": ".py",
   "mimetype": "text/x-python",
   "name": "python",
   "nbconvert_exporter": "python",
   "pygments_lexer": "ipython3",
   "version": "3.12.0"
  }
 },
 "nbformat": 4,
 "nbformat_minor": 5
}
